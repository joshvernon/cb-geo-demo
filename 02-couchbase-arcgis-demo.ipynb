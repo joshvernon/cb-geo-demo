{
 "cells": [
  {
   "cell_type": "markdown",
   "metadata": {},
   "source": [
    "## Prerequisites\n",
    "### Couchbase Configuration\n",
    "Follow the steps in [01-setup.ipynb](01-setup.ipynb) to configure the couchbase bucket, load the data into it, and create the spatial view.\n",
    "### Enable the ArcGIS jupyter notebook widgets\n",
    "Run these commands before starting the jupyter notebook server for the first time - the notebook server should be **stopped**.\n",
    "```\n",
    "$ jupyter nbextension install --py --sys-prefix arcgis\n",
    "$ jupyter nbextension enable --py --sys-prefix arcgis\n",
    "```"
   ]
  },
  {
   "cell_type": "code",
   "execution_count": 1,
   "metadata": {},
   "outputs": [
    {
     "name": "stderr",
     "output_type": "stream",
     "text": [
      "/home/josh/.local/share/virtualenvs/cb-geo-demo-3Q7hPktG/lib64/python3.6/importlib/_bootstrap.py:219: RuntimeWarning: numpy.dtype size changed, may indicate binary incompatibility. Expected 96, got 88\n",
      "  return f(*args, **kwds)\n",
      "/home/josh/.local/share/virtualenvs/cb-geo-demo-3Q7hPktG/lib64/python3.6/importlib/_bootstrap.py:219: RuntimeWarning: numpy.dtype size changed, may indicate binary incompatibility. Expected 96, got 88\n",
      "  return f(*args, **kwds)\n"
     ]
    }
   ],
   "source": [
    "from arcgis.gis import GIS"
   ]
  },
  {
   "cell_type": "code",
   "execution_count": 2,
   "metadata": {},
   "outputs": [],
   "source": [
    "gis = GIS()"
   ]
  },
  {
   "cell_type": "code",
   "execution_count": 3,
   "metadata": {},
   "outputs": [],
   "source": [
    "map = gis.map(\"San Antonio, TX 78229\")\n",
    "map.basemap = 'osm'\n",
    "map.zoom = 14"
   ]
  },
  {
   "cell_type": "code",
   "execution_count": 4,
   "metadata": {},
   "outputs": [
    {
     "data": {
      "application/vnd.jupyter.widget-view+json": {
       "model_id": "6a52b953b71749d1bf1409530db92e29",
       "version_major": 2,
       "version_minor": 0
      },
      "text/plain": [
       "MapView(basemap='osm', layout=Layout(height='400px', width='100%'), zoom=14.0)"
      ]
     },
     "metadata": {},
     "output_type": "display_data"
    }
   ],
   "source": [
    "map"
   ]
  },
  {
   "cell_type": "code",
   "execution_count": 5,
   "metadata": {},
   "outputs": [
    {
     "data": {
      "text/plain": [
       "{'spatialReference': {'latestWkid': 3857, 'wkid': 102100},\n",
       " 'xmin': -10981839.090819877,\n",
       " 'ymin': 3437306.0202543377,\n",
       " 'xmax': -10963513.313288528,\n",
       " 'ymax': 3444949.7230828446}"
      ]
     },
     "execution_count": 5,
     "metadata": {},
     "output_type": "execute_result"
    }
   ],
   "source": [
    "map.extent"
   ]
  },
  {
   "cell_type": "code",
   "execution_count": 6,
   "metadata": {},
   "outputs": [],
   "source": [
    "xmin = map.extent['xmin']\n",
    "ymin = map.extent['ymin']\n",
    "xmax = map.extent['xmax']\n",
    "ymax = map.extent['ymax']"
   ]
  },
  {
   "cell_type": "code",
   "execution_count": 7,
   "metadata": {},
   "outputs": [],
   "source": [
    "import pyproj"
   ]
  },
  {
   "cell_type": "code",
   "execution_count": 8,
   "metadata": {},
   "outputs": [],
   "source": [
    "# For some reason this is the only way to initialize Web Mercator\n",
    "srcProj = pyproj.Proj(init='epsg:3857')\n",
    "# Can also be initialized like so:\n",
    "# Proj(proj=\"longlat\", ellps=\"WGS84\", datum=\"WGS84\")\n",
    "dstProj = pyproj.Proj(init='epsg:4326')"
   ]
  },
  {
   "cell_type": "code",
   "execution_count": 9,
   "metadata": {},
   "outputs": [],
   "source": [
    "lower_left = pyproj.transform(srcProj, dstProj, xmin, ymin)\n",
    "upper_right = pyproj.transform(srcProj, dstProj, xmax, ymax)"
   ]
  },
  {
   "cell_type": "code",
   "execution_count": 10,
   "metadata": {},
   "outputs": [
    {
     "data": {
      "text/plain": [
       "(-98.65153903024724, 29.483313548576277)"
      ]
     },
     "execution_count": 10,
     "metadata": {},
     "output_type": "execute_result"
    }
   ],
   "source": [
    "lower_left"
   ]
  },
  {
   "cell_type": "code",
   "execution_count": 11,
   "metadata": {},
   "outputs": [
    {
     "data": {
      "text/plain": [
       "(-98.4869157697494, 29.54306834103877)"
      ]
     },
     "execution_count": 11,
     "metadata": {},
     "output_type": "execute_result"
    }
   ],
   "source": [
    "upper_right"
   ]
  },
  {
   "cell_type": "code",
   "execution_count": 12,
   "metadata": {},
   "outputs": [],
   "source": [
    "from cbgeo.utils import connect\n",
    "from cbgeo.query import query_bounding_box"
   ]
  },
  {
   "cell_type": "code",
   "execution_count": 13,
   "metadata": {},
   "outputs": [],
   "source": [
    "bucket = connect()"
   ]
  },
  {
   "cell_type": "code",
   "execution_count": 14,
   "metadata": {},
   "outputs": [],
   "source": [
    "view = query_bounding_box(bucket, lower_left, upper_right)"
   ]
  },
  {
   "cell_type": "code",
   "execution_count": 15,
   "metadata": {},
   "outputs": [],
   "source": [
    "from arcgis.geometry import Point"
   ]
  },
  {
   "cell_type": "code",
   "execution_count": 16,
   "metadata": {},
   "outputs": [
    {
     "data": {
      "application/vnd.jupyter.widget-view+json": {
       "model_id": "6a52b953b71749d1bf1409530db92e29",
       "version_major": 2,
       "version_minor": 0
      },
      "text/plain": [
       "MapView(basemap='osm', jupyter_target='notebook', layout=Layout(height='400px', width='100%'), ready=True, zoo…"
      ]
     },
     "metadata": {},
     "output_type": "display_data"
    }
   ],
   "source": [
    "map"
   ]
  },
  {
   "cell_type": "code",
   "execution_count": 17,
   "metadata": {},
   "outputs": [],
   "source": [
    "# Iterate over the points in the couchbase result set and draw them\n",
    "# on the map with popups.\n",
    "for row in view:\n",
    "    coordinates = row.geometry['coordinates']\n",
    "    x_coord = coordinates[0]\n",
    "    y_coord = coordinates[1]\n",
    "    # No need to re-project the coordinates, since the map widget\n",
    "    # can project on the fly.\n",
    "    point = Point(x=x_coord, y=y_coord, spatialReference=4326)\n",
    "    attrs = row.value\n",
    "    # Create the popup title using the LOCATION field, truncating the\n",
    "    # text so it doesn't over-extend the title bar.\n",
    "    title = attrs['LOCATION'][:26]\n",
    "    # Create the HTML popup content, using the feature attributes from couchbase.\n",
    "    content = \"<br>\".join([\"<strong>{0}</strong>: {1}\".format(k,v) for k,v in attrs.items()])\n",
    "    popup_dict = {'title': title, 'content': content}\n",
    "    map.draw(point, popup=popup_dict)"
   ]
  }
 ],
 "metadata": {
  "kernelspec": {
   "display_name": "Python 3",
   "language": "python",
   "name": "python3"
  },
  "language_info": {
   "codemirror_mode": {
    "name": "ipython",
    "version": 3
   },
   "file_extension": ".py",
   "mimetype": "text/x-python",
   "name": "python",
   "nbconvert_exporter": "python",
   "pygments_lexer": "ipython3",
   "version": "3.6.6"
  }
 },
 "nbformat": 4,
 "nbformat_minor": 2
}
