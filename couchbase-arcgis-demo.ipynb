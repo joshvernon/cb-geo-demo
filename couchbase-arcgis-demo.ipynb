{
 "cells": [
  {
   "cell_type": "markdown",
   "metadata": {},
   "source": [
    "## Prerequisites\n",
    "### Package Installation\n",
    "```\n",
    "sudo dnf install python2-devel python3-devel libcouchbase-devel libcouchbase-tools\n",
    "pipenv install -d\n",
    "```\n",
    "If you get some errors during the `pipenv install` there's probably an issue with some C library somewhere. Have fun sorting that out!\n",
    "### Couchbase Configuration\n",
    "Follow the steps in presentation.md to configure the couchbase bucket, load the data into it, and create the spatial view."
   ]
  },
  {
   "cell_type": "code",
   "execution_count": 1,
   "metadata": {},
   "outputs": [],
   "source": [
    "from arcgis.gis import GIS"
   ]
  },
  {
   "cell_type": "code",
   "execution_count": 22,
   "metadata": {},
   "outputs": [],
   "source": [
    "gis = GIS()"
   ]
  },
  {
   "cell_type": "code",
   "execution_count": 23,
   "metadata": {},
   "outputs": [],
   "source": [
    "map = gis.map(\"San Antonio, TX 78229\")\n",
    "map.basemap = 'osm'\n",
    "map.zoom = 14"
   ]
  },
  {
   "cell_type": "code",
   "execution_count": 24,
   "metadata": {},
   "outputs": [
    {
     "data": {
      "application/vnd.jupyter.widget-view+json": {
       "model_id": "c9a1066d0c254284b534fab2f45ac57c",
       "version_major": 2,
       "version_minor": 0
      },
      "text/plain": [
       "MapView(basemaps=['dark-gray', 'dark-gray-vector', 'gray', 'gray-vector', 'hybrid', 'national-geographic', 'oc…"
      ]
     },
     "metadata": {},
     "output_type": "display_data"
    }
   ],
   "source": [
    "map"
   ]
  },
  {
   "cell_type": "code",
   "execution_count": 25,
   "metadata": {},
   "outputs": [
    {
     "data": {
      "text/plain": [
       "{'type': 'extent',\n",
       " 'xmin': -10976498.053468455,\n",
       " 'ymin': 3437306.0202543377,\n",
       " 'xmax': -10957866.52782397,\n",
       " 'ymax': 3444949.7230828446,\n",
       " 'spatialReference': {'wkid': 102100}}"
      ]
     },
     "execution_count": 25,
     "metadata": {},
     "output_type": "execute_result"
    }
   ],
   "source": [
    "map.extent"
   ]
  },
  {
   "cell_type": "code",
   "execution_count": 26,
   "metadata": {},
   "outputs": [],
   "source": [
    "xmin = map.extent['xmin']\n",
    "ymin = map.extent['ymin']\n",
    "xmax = map.extent['xmax']\n",
    "ymax = map.extent['ymax']"
   ]
  },
  {
   "cell_type": "code",
   "execution_count": 27,
   "metadata": {},
   "outputs": [],
   "source": [
    "import pyproj"
   ]
  },
  {
   "cell_type": "code",
   "execution_count": 28,
   "metadata": {},
   "outputs": [],
   "source": [
    "# For some reason this is the only way to initialize Web Mercator\n",
    "srcProj = pyproj.Proj(init='epsg:3857')\n",
    "# Can also be initialized like so:\n",
    "# Proj(proj=\"longlat\", ellps=\"WGS84\", datum=\"WGS84\")\n",
    "dstProj = pyproj.Proj(init='epsg:4326')"
   ]
  },
  {
   "cell_type": "code",
   "execution_count": 29,
   "metadata": {},
   "outputs": [],
   "source": [
    "lower_left = pyproj.transform(srcProj, dstProj, xmin, ymin)\n",
    "upper_right = pyproj.transform(srcProj, dstProj, xmax, ymax)"
   ]
  },
  {
   "cell_type": "code",
   "execution_count": 35,
   "metadata": {},
   "outputs": [
    {
     "data": {
      "text/plain": [
       "(-98.60355967538888, 29.483313548576277)"
      ]
     },
     "execution_count": 35,
     "metadata": {},
     "output_type": "execute_result"
    }
   ],
   "source": [
    "lower_left"
   ]
  },
  {
   "cell_type": "code",
   "execution_count": 36,
   "metadata": {},
   "outputs": [
    {
     "data": {
      "text/plain": [
       "(-98.43618983285982, 29.54306834103877)"
      ]
     },
     "execution_count": 36,
     "metadata": {},
     "output_type": "execute_result"
    }
   ],
   "source": [
    "upper_right"
   ]
  },
  {
   "cell_type": "code",
   "execution_count": 32,
   "metadata": {},
   "outputs": [],
   "source": [
    "from cb_utils import connect\n",
    "from query import query_bounding_box"
   ]
  },
  {
   "cell_type": "code",
   "execution_count": 33,
   "metadata": {},
   "outputs": [],
   "source": [
    "bucket = connect()"
   ]
  },
  {
   "cell_type": "code",
   "execution_count": null,
   "metadata": {
    "scrolled": false
   },
   "outputs": [],
   "source": [
    "query_bounding_box(bucket, lower_left, upper_right)"
   ]
  },
  {
   "cell_type": "code",
   "execution_count": null,
   "metadata": {},
   "outputs": [],
   "source": []
  }
 ],
 "metadata": {
  "kernelspec": {
   "display_name": "Python 3",
   "language": "python",
   "name": "python3"
  },
  "language_info": {
   "codemirror_mode": {
    "name": "ipython",
    "version": 3
   },
   "file_extension": ".py",
   "mimetype": "text/x-python",
   "name": "python",
   "nbconvert_exporter": "python",
   "pygments_lexer": "ipython3",
   "version": "3.6.5"
  }
 },
 "nbformat": 4,
 "nbformat_minor": 2
}
