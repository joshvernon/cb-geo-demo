{
 "cells": [
  {
   "cell_type": "markdown",
   "metadata": {},
   "source": [
    "## Prerequisites\n",
    "### Package Installation\n",
    "```\n",
    "$ sudo dnf install python2-devel python3-devel libcouchbase-devel libcouchbase-tools\n",
    "$ pipenv install -d\n",
    "```\n",
    "If you get some errors during the `pipenv install` there's probably an issue with some C library somewhere. Have fun sorting that out!\n",
    "### Couchbase Configuration\n",
    "Follow the steps in presentation.md to configure the couchbase bucket, load the data into it, and create the spatial view.\n",
    "### Enable the ArcGIS jupyter notebook widgets\n",
    "Run these commands before starting the jupyter notebook server for the first time - the notebook server should be **stopped**.\n",
    "```\n",
    "$ jupyter nbextension install --py --sys-prefix arcgis\n",
    "$ jupyter nbextension enable --py --sys-prefix arcgis\n",
    "```"
   ]
  },
  {
   "cell_type": "code",
   "execution_count": 1,
   "metadata": {},
   "outputs": [],
   "source": [
    "from arcgis.gis import GIS"
   ]
  },
  {
   "cell_type": "code",
   "execution_count": 2,
   "metadata": {},
   "outputs": [],
   "source": [
    "gis = GIS()"
   ]
  },
  {
   "cell_type": "code",
   "execution_count": 3,
   "metadata": {},
   "outputs": [],
   "source": [
    "map = gis.map(\"San Antonio, TX 78229\")\n",
    "map.basemap = 'osm'\n",
    "map.zoom = 14"
   ]
  },
  {
   "cell_type": "code",
   "execution_count": 4,
   "metadata": {},
   "outputs": [
    {
     "data": {
      "application/vnd.jupyter.widget-view+json": {
       "model_id": "e02888b1980b49cc8220536213e6d263",
       "version_major": 2,
       "version_minor": 0
      },
      "text/plain": [
       "MapView(basemaps=['dark-gray', 'dark-gray-vector', 'gray', 'gray-vector', 'hybrid', 'national-geographic', 'oc…"
      ]
     },
     "metadata": {},
     "output_type": "display_data"
    }
   ],
   "source": [
    "map"
   ]
  },
  {
   "cell_type": "code",
   "execution_count": 5,
   "metadata": {},
   "outputs": [
    {
     "data": {
      "text/plain": [
       "{'type': 'extent',\n",
       " 'xmin': -10976498.053468455,\n",
       " 'ymin': 3437306.0202543377,\n",
       " 'xmax': -10957866.52782397,\n",
       " 'ymax': 3444949.7230828446,\n",
       " 'spatialReference': {'wkid': 102100}}"
      ]
     },
     "execution_count": 5,
     "metadata": {},
     "output_type": "execute_result"
    }
   ],
   "source": [
    "map.extent"
   ]
  },
  {
   "cell_type": "code",
   "execution_count": 6,
   "metadata": {},
   "outputs": [],
   "source": [
    "xmin = map.extent['xmin']\n",
    "ymin = map.extent['ymin']\n",
    "xmax = map.extent['xmax']\n",
    "ymax = map.extent['ymax']"
   ]
  },
  {
   "cell_type": "code",
   "execution_count": 7,
   "metadata": {},
   "outputs": [],
   "source": [
    "import pyproj"
   ]
  },
  {
   "cell_type": "code",
   "execution_count": 8,
   "metadata": {},
   "outputs": [],
   "source": [
    "# For some reason this is the only way to initialize Web Mercator\n",
    "srcProj = pyproj.Proj(init='epsg:3857')\n",
    "# Can also be initialized like so:\n",
    "# Proj(proj=\"longlat\", ellps=\"WGS84\", datum=\"WGS84\")\n",
    "dstProj = pyproj.Proj(init='epsg:4326')"
   ]
  },
  {
   "cell_type": "code",
   "execution_count": 9,
   "metadata": {},
   "outputs": [],
   "source": [
    "lower_left = pyproj.transform(srcProj, dstProj, xmin, ymin)\n",
    "upper_right = pyproj.transform(srcProj, dstProj, xmax, ymax)"
   ]
  },
  {
   "cell_type": "code",
   "execution_count": 10,
   "metadata": {},
   "outputs": [
    {
     "data": {
      "text/plain": [
       "(-98.60355967538888, 29.483313548576277)"
      ]
     },
     "execution_count": 10,
     "metadata": {},
     "output_type": "execute_result"
    }
   ],
   "source": [
    "lower_left"
   ]
  },
  {
   "cell_type": "code",
   "execution_count": 11,
   "metadata": {},
   "outputs": [
    {
     "data": {
      "text/plain": [
       "(-98.43618983285982, 29.54306834103877)"
      ]
     },
     "execution_count": 11,
     "metadata": {},
     "output_type": "execute_result"
    }
   ],
   "source": [
    "upper_right"
   ]
  },
  {
   "cell_type": "code",
   "execution_count": 12,
   "metadata": {},
   "outputs": [],
   "source": [
    "from cbgeo.utils import connect\n",
    "from cbgeo.query import query_bounding_box"
   ]
  },
  {
   "cell_type": "code",
   "execution_count": 13,
   "metadata": {},
   "outputs": [],
   "source": [
    "bucket = connect()"
   ]
  },
  {
   "cell_type": "code",
   "execution_count": 14,
   "metadata": {},
   "outputs": [],
   "source": [
    "view = query_bounding_box(bucket, lower_left, upper_right)"
   ]
  }
 ],
 "metadata": {
  "kernelspec": {
   "display_name": "Python 3",
   "language": "python",
   "name": "python3"
  },
  "language_info": {
   "codemirror_mode": {
    "name": "ipython",
    "version": 3
   },
   "file_extension": ".py",
   "mimetype": "text/x-python",
   "name": "python",
   "nbconvert_exporter": "python",
   "pygments_lexer": "ipython3",
   "version": "3.6.5"
  }
 },
 "nbformat": 4,
 "nbformat_minor": 2
}
