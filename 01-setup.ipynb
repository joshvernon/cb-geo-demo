{
 "cells": [
  {
   "cell_type": "markdown",
   "metadata": {},
   "source": [
    "# Working with geodata in Couchbase - ~~GeoRodeo 2018 lightning talk~~"
   ]
  },
  {
   "cell_type": "markdown",
   "metadata": {},
   "source": [
    "## Install and configure couchbase in a docker container\n",
    "1. Follow the relevant instructions to install and run [docker](https://docs.docker.com/install) for your operating system.\n",
    "2. Follow the instructions on the [Do a Quick Install](https://developer.couchbase.com/documentation/server/current/getting-started/do-a-quick-install.html) page to pull down and initialize the couchbase/sandbox:5.0.0-beta docker container.\n",
    "3. Optional: Complete the rest of the tutorial in the [Getting Started](https://developer.couchbase.com/documentation/server/current/getting-started/start-here.html) section of the couchbase docs to get a very basic familiarity with couchbase and N1QL."
   ]
  },
  {
   "cell_type": "markdown",
   "metadata": {},
   "source": [
    "## Set up the couchbase Python SDK\n",
    "### Install prerequisite packages\n",
    "The below [instructions](https://developer.couchbase.com/documentation/server/current/sdk/python/start-using-sdk.html) were completed on Fedora 27 and will vary by OS.\n",
    "```\n",
    "$ sudo dnf install python2-devel python3-devel libcouchbase-devel libcouchbase-tools\n",
    "```\n",
    "For Linux the header (*-devel) packages are needed to properly build the Python SDK."
   ]
  },
  {
   "cell_type": "markdown",
   "metadata": {},
   "source": [
    "### Get the Python code and set up the virtualenv with the Python SDK."
   ]
  },
  {
   "cell_type": "code",
   "execution_count": null,
   "metadata": {},
   "outputs": [],
   "source": [
    "!git clone https://github.com/joshvernon/cb-geo-demo.git"
   ]
  },
  {
   "cell_type": "markdown",
   "metadata": {},
   "source": [
    "If the prerequisite packages aren't present you'll likely see an error here when pip tries to build the couchbase SDK."
   ]
  },
  {
   "cell_type": "code",
   "execution_count": null,
   "metadata": {},
   "outputs": [],
   "source": [
    "!pipenv install"
   ]
  },
  {
   "cell_type": "markdown",
   "metadata": {},
   "source": [
    "### Verify the SDK is working correctly"
   ]
  },
  {
   "cell_type": "code",
   "execution_count": 1,
   "metadata": {},
   "outputs": [
    {
     "name": "stdout",
     "output_type": "stream",
     "text": [
      "2.4.0\r\n"
     ]
    }
   ],
   "source": [
    "!pipenv run python -c \"import couchbase; print(couchbase.__version__)\""
   ]
  },
  {
   "cell_type": "markdown",
   "metadata": {},
   "source": [
    "## Download and explore the [sample GeoJSON dataset](https://hub.arcgis.com/datasets/VIATransit::via-bus-stops-2018)"
   ]
  },
  {
   "cell_type": "code",
   "execution_count": 2,
   "metadata": {},
   "outputs": [
    {
     "name": "stdout",
     "output_type": "stream",
     "text": [
      "  % Total    % Received % Xferd  Average Speed   Time    Time     Time  Current\n",
      "                                 Dload  Upload   Total   Spent    Left  Speed\n",
      "100 1608k    0 1608k    0     0  1943k      0 --:--:-- --:--:-- --:--:-- 1943k\n"
     ]
    }
   ],
   "source": [
    "!curl https://opendata.arcgis.com/datasets/02f9703331e2486b84c02f7a1988bf26_0.geojson | python -m json.tool > via_stops_2018.geojson"
   ]
  },
  {
   "cell_type": "code",
   "execution_count": 3,
   "metadata": {},
   "outputs": [
    {
     "data": {
      "text/plain": [
       "['{',\n",
       " '    \"type\": \"FeatureCollection\",',\n",
       " '    \"features\": [',\n",
       " '        {',\n",
       " '            \"type\": \"Feature\",',\n",
       " '            \"properties\": {',\n",
       " '                \"FID\": 1,',\n",
       " '                \"OBJECTID\": 1,',\n",
       " '                \"STOP_ID\": \"33646\",',\n",
       " '                \"LOCATION\": \"BLANCO OPPOSITE DEER CREST\",',\n",
       " '                \"ROUTES\": \"002\",',\n",
       " '                \"FREQUENT\": \" \"',\n",
       " '            },',\n",
       " '            \"geometry\": {',\n",
       " '                \"type\": \"Point\",',\n",
       " '                \"coordinates\": [',\n",
       " '                    -98.51548460103818,',\n",
       " '                    29.58578131134629',\n",
       " '                ]',\n",
       " '            }']"
      ]
     },
     "execution_count": 3,
     "metadata": {},
     "output_type": "execute_result"
    }
   ],
   "source": [
    "%sx head -n20 via_stops_2018.geojson"
   ]
  },
  {
   "cell_type": "markdown",
   "metadata": {},
   "source": [
    "## Set up the viastops couchbase bucket to hold the geojson features\n",
    "1. Hit http://localhost:8091 in a browser, and login to the couchbase console.\n",
    "2. Click buckets on the left hand side of the page.\n",
    "![Couchbase console dashboard page with Buckets menu item circled](images/dashboard.png)\n",
    "3. Click \"ADD BUCKET\" near the top right of the screen.\n",
    "![Couchbase console Buckets page with ADD BUCKET link circled](images/add-bucket.png)\n",
    "4. In the Add Data Bucket dialog, enter viastops for the bucket Name. You can leave the default bucket memory quota of 200 MB and the Bucket Type of couchbase. You can leave the Advanced settings as-is, or change them to your liking. Click the \"Add Bucket\" button.\n",
    "\n",
    "![Couchbase console Add Data Bucket dialog with \"viastops\" entered in the Name field and and memory quota of 200 MB and bucket type of Couchbase](images/add-bucket-dialog.png)\n",
    "\n",
    "5. You should now see the new (empty) viastops bucket.\n",
    "![Buckets page after adding new bucket showing empty viastops bucket](images/new-bucket.png)"
   ]
  },
  {
   "cell_type": "markdown",
   "metadata": {},
   "source": [
    "## Load the geojson features into the viastops bucket\n",
    "We'll use the `loader` script to download the VIA stops geojson FeatureCollection (again), parse the FeatureCollection object into individual features, and load each feature as a document into the `viastops` couchbase bucket. We are going to use each stop's `STOP_ID` value as its document key. \n",
    "\n",
    "**IMPORTANT NOTE**: You'll need to change the `CB_USER` and `CB_PASSWORD` constants to reference your own couchbase account, which must have the appropriate accesses to the `viastops` bucket."
   ]
  },
  {
   "cell_type": "code",
   "execution_count": 4,
   "metadata": {},
   "outputs": [],
   "source": [
    "from cbgeo.utils import connect\n",
    "from cbgeo.loader import get_features, upsert_features"
   ]
  },
  {
   "cell_type": "code",
   "execution_count": 5,
   "metadata": {},
   "outputs": [],
   "source": [
    "features = get_features()\n",
    "bucket = connect()"
   ]
  },
  {
   "cell_type": "code",
   "execution_count": 6,
   "metadata": {},
   "outputs": [],
   "source": [
    "upsert_features(bucket, features)"
   ]
  },
  {
   "cell_type": "markdown",
   "metadata": {},
   "source": [
    "Refresh the Buckets page in the couchbase console and you should now see several thousand features in the `viastops` bucket.\n",
    "![Buckets page after adding features to viastops bucket](images/viastops-with-features.png)"
   ]
  },
  {
   "cell_type": "markdown",
   "metadata": {},
   "source": [
    "## Create the spatial view\n",
    "1. From the main Couchbase console dashboard click Indexes.![](images/indexes.png)\n",
    "2. Click Views.![](images/views.png)\n",
    "3. Select the viastops bucket and click Add Spatial View.![](images/views-2.png)\n",
    "4. Provide a name for the design document and view.![](images/create-spatial-view.png)\n",
    "5. Click Edit to open the spatial view configuration page.![](images/edit.png)"
   ]
  },
  {
   "cell_type": "markdown",
   "metadata": {},
   "source": [
    "6. Replace the Spatial Index Code with the following view function and click Save Changes.\n",
    "```javascript\n",
    "function (doc) {\n",
    "    if (doc.geometry && doc.properties) {\n",
    "        emit([doc.geometry], doc.properties);\n",
    "    }\n",
    "}\n",
    "```\n",
    "![](images/spatial-index-code-1.png)\n",
    "![](images/spatial-index-code-2.png)"
   ]
  },
  {
   "cell_type": "markdown",
   "metadata": {},
   "source": [
    "## Perform a spatial query on the view\n",
    "```\n",
    "$ curl -g -u yourusername \"http://localhost:8092/viastops/_design/dev_main/_spatial/stops?stale=false&connection_timeout=60000&skip=0&full_set=true&start_range=[-98.555659,29.509246]&end_range=[-98.551410,29.511178]\"\n",
    "Enter host password for user 'yourusername':\n",
    "{\"total_rows\":0,\"rows\":[\n",
    "{\"id\":\"91237\",\"key\":[[-98.55471617413822,-98.55471617413822],[29.51027820335144,29.51027820335144]],\"value\":{\"FID\":2993,\"OBJECTID\":4993,\"STOP_ID\":\"91237\",\"LOCATION\":\"HORIZON HILL & CALLAGHAN\",\"ROUTES\":\"602\",\"FREQUENT\":\" \"},\"geometry\":{\"type\":\"Point\",\"coordinates\":[-98.55471617413822,29.51027820335144]}},\n",
    "{\"id\":\"89986\",\"key\":[[-98.55445492363533,-98.55445492363533],[29.51036265510136,29.51036265510136]],\"value\":{\"FID\":2972,\"OBJECTID\":4972,\"STOP_ID\":\"89986\",\"LOCATION\":\"HORIZON HILL & CALLAGHAN\",\"ROUTES\":\"602\",\"FREQUENT\":\" \"},\"geometry\":{\"type\":\"Point\",\"coordinates\":[-98.55445492363533,29.51036265510136]}},\n",
    "{\"id\":\"91227\",\"key\":[[-98.55361989096805,-98.55361989096805],[29.51011003032731,29.51011003032731]],\"value\":{\"FID\":2990,\"OBJECTID\":4990,\"STOP_ID\":\"91227\",\"LOCATION\":\"CALLAGHAN & HORIZON HILL\",\"ROUTES\":\"602\",\"FREQUENT\":\" \"},\"geometry\":{\"type\":\"Point\",\"coordinates\":[-98.55361989096805,29.51011003032731]}}\n",
    "]\n",
    "}\n",
    "```"
   ]
  }
 ],
 "metadata": {
  "kernelspec": {
   "display_name": "Python 3",
   "language": "python",
   "name": "python3"
  },
  "language_info": {
   "codemirror_mode": {
    "name": "ipython",
    "version": 3
   },
   "file_extension": ".py",
   "mimetype": "text/x-python",
   "name": "python",
   "nbconvert_exporter": "python",
   "pygments_lexer": "ipython3",
   "version": "3.6.6"
  }
 },
 "nbformat": 4,
 "nbformat_minor": 2
}
